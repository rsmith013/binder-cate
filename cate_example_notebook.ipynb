{
 "cells": [
  {
   "cell_type": "code",
   "execution_count": null,
   "id": "ae8d9bae",
   "metadata": {},
   "outputs": [],
   "source": [
    "!which python"
   ]
  },
  {
   "cell_type": "code",
   "execution_count": null,
   "id": "7c252ad5",
   "metadata": {},
   "outputs": [],
   "source": [
    "!cate -h"
   ]
  }
 ],
 "metadata": {
  "kernelspec": {
   "display_name": "cate-env",
   "language": "python",
   "name": "cate-env"
  },
  "language_info": {
   "codemirror_mode": {
    "name": "ipython",
    "version": 3
   },
   "file_extension": ".py",
   "mimetype": "text/x-python",
   "name": "python",
   "nbconvert_exporter": "python",
   "pygments_lexer": "ipython3",
   "version": "3.7.8"
  }
 },
 "nbformat": 4,
 "nbformat_minor": 5
}
