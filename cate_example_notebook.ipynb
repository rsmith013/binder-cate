{
 "cells": [
  {
   "cell_type": "code",
   "execution_count": 3,
   "id": "086da742",
   "metadata": {},
   "outputs": [
    {
     "name": "stdout",
     "output_type": "stream",
     "text": [
      "/Users/vdn73631/miniconda3/envs/cate-env/bin/python\r\n"
     ]
    }
   ],
   "source": [
    "!which python"
   ]
  },
  {
   "cell_type": "code",
   "execution_count": 4,
   "id": "93093ac7",
   "metadata": {},
   "outputs": [
    {
     "name": "stdout",
     "output_type": "stream",
     "text": [
      "usage: cate [-h] [--version] [--traceback] [--license] [--docs] COMMAND ...\r\n",
      "\r\n",
      "ESA CCI Toolbox (Cate) command-line interface, version 2.0.0\r\n",
      "\r\n",
      "positional arguments:\r\n",
      "  COMMAND      One of the following commands. Type \"COMMAND -h\" to get\r\n",
      "               command-specific help.\r\n",
      "    ds         Manage data sources.\r\n",
      "    op         Manage data operations.\r\n",
      "    ws         Manage workspaces.\r\n",
      "    res        Manage workspace resources.\r\n",
      "    run        Run an operation or Workflow file.\r\n",
      "    io         Manage supported data and file formats.\r\n",
      "    upd        Update an existing cate environment to a specific or to the\r\n",
      "               latest cate version\r\n",
      "\r\n",
      "optional arguments:\r\n",
      "  -h, --help   show this help message and exit\r\n",
      "  --version    show program's version number and exit\r\n",
      "  --traceback  show (Python) stack traceback for the last error\r\n",
      "  --license    show software license and exit\r\n",
      "  --docs       show software documentation in a browser window\r\n"
     ]
    }
   ],
   "source": [
    "!cate -h"
   ]
  }
 ],
 "metadata": {
  "kernelspec": {
   "display_name": "cate-env",
   "language": "python",
   "name": "cate-env"
  },
  "language_info": {
   "codemirror_mode": {
    "name": "ipython",
    "version": 3
   },
   "file_extension": ".py",
   "mimetype": "text/x-python",
   "name": "python",
   "nbconvert_exporter": "python",
   "pygments_lexer": "ipython3",
   "version": "3.7.8"
  }
 },
 "nbformat": 4,
 "nbformat_minor": 5
}
